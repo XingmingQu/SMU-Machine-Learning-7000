{
 "cells": [
  {
   "cell_type": "code",
   "execution_count": 4,
   "metadata": {},
   "outputs": [
    {
     "data": {
      "text/html": [
       "<link href='https://fonts.googleapis.com/css?family=Passion+One' rel='stylesheet' type='text/css'><style>div.attn { font-family: 'Helvetica Neue'; font-size: 30px; line-height: 40px; color: #FFFFFF; text-align: center; margin: 30px 0; border-width: 10px 0; border-style: solid; border-color: #5AAAAA; padding: 30px 0; background-color: #DDDDFF; }hr { border: 0; background-color: #ffffff; border-top: 1px solid black; }hr.major { border-top: 10px solid #5AAA5A; }hr.minor { border: none; background-color: #ffffff; border-top: 5px dotted #CC3333; }div.bubble { width: 65%; padding: 20px; background: #DDDDDD; border-radius: 15px; margin: 0 auto; font-style: italic; color: #f00; }em { color: #AAA; }div.c1{visibility:hidden;margin:0;height:0;}div.note{color:red;}</style>"
      ],
      "text/plain": [
       "<IPython.core.display.HTML object>"
      ]
     },
     "execution_count": 4,
     "metadata": {},
     "output_type": "execute_result"
    }
   ],
   "source": [
    "#  Ebnable HTML/CSS \n",
    "from IPython.core.display import HTML\n",
    "HTML(\"<link href='https://fonts.googleapis.com/css?family=Passion+One' rel='stylesheet' type='text/css'><style>div.attn { font-family: 'Helvetica Neue'; font-size: 30px; line-height: 40px; color: #FFFFFF; text-align: center; margin: 30px 0; border-width: 10px 0; border-style: solid; border-color: #5AAAAA; padding: 30px 0; background-color: #DDDDFF; }hr { border: 0; background-color: #ffffff; border-top: 1px solid black; }hr.major { border-top: 10px solid #5AAA5A; }hr.minor { border: none; background-color: #ffffff; border-top: 5px dotted #CC3333; }div.bubble { width: 65%; padding: 20px; background: #DDDDDD; border-radius: 15px; margin: 0 auto; font-style: italic; color: #f00; }em { color: #AAA; }div.c1{visibility:hidden;margin:0;height:0;}div.note{color:red;}</style>\")"
   ]
  },
  {
   "cell_type": "markdown",
   "metadata": {},
   "source": [
    "___\n",
    "Team Member Names:\n",
    "\n",
    "- Name 1: LJ Brown\n",
    "- Name 2: Xingming Qu\n",
    "- Name 3: Henry Warren\n",
    "- Name 4: Joe McGuire\n",
    "\n",
    "___"
   ]
  },
  {
   "cell_type": "markdown",
   "metadata": {},
   "source": [
    "# In Class Assignment Two\n",
    "In the following assignment you will be asked to fill in python code and derivations for a number of different problems. Please read all instructions carefully and turn in the rendered notebook (or HTML of the rendered notebook)  before the end of class (or right after class). The initial portion of this notebook is given before class and the remainder is given during class. Please answer the initial questions before class, to the best of your ability. Once class has started you may rework your answers as a team for the initial part of the assignment. \n",
    "\n",
    "<a id=\"top\"></a>\n",
    "## Contents\n",
    "* <a href=\"#Loading\">Loading the Data</a>\n",
    "* <a href=\"#svm\">Linear SVMs</a>\n",
    "* <a href=\"#svm_using\">Using Linear SVMs</a>\n",
    "* <a href=\"#nonlinear\">Non-linear SVMs</a>\n",
    "\n",
    "________________________________________________________________________________________________________\n",
    "\n",
    "<a id=\"Loading\"></a>\n",
    "<a href=\"#top\">Back to Top</a>\n",
    "## Loading the Data\n",
    "Please run the following code to read in the \"olivetti faces\" dataset from sklearn's data loading module. \n",
    "\n",
    "This will load the data into the variable `ds`. `ds` is a `bunch` object with fields like `ds.data` and `ds.target`. The field `ds.data` is a numpy matrix of the continuous features in the dataset. **The object is not a pandas dataframe. It is a numpy matrix.** Each row is a set of observed instances, each column is a different feature. It also has a field called `ds.target` that is an integer value we are trying to predict (i.e., a specific integer represents a specific person). Each entry in `ds.target` is a label for each row of the `ds.data` matrix. "
   ]
  },
  {
   "cell_type": "code",
   "execution_count": 5,
   "metadata": {},
   "outputs": [],
   "source": [
    "# fetch the images for the dataset\n",
    "# this will take a long time the first run because it needs to download\n",
    "# after the first time, the dataset will be save to your disk (in sklearn package somewhere) \n",
    "# if this does not run, you may need additional libraries installed on your system (install at your own risk!!)\n",
    "from sklearn.datasets import fetch_lfw_people\n",
    "\n",
    "lfw_people = fetch_lfw_people(min_faces_per_person=20, resize=None)"
   ]
  },
  {
   "cell_type": "code",
   "execution_count": 6,
   "metadata": {},
   "outputs": [
    {
     "name": "stdout",
     "output_type": "stream",
     "text": [
      "n_samples: 3023\n",
      "n_features: 11750\n",
      "n_classes: 62\n",
      "Original Image Sizes 125 by 94\n",
      "11750\n"
     ]
    }
   ],
   "source": [
    "# get some of the specifics of the dataset\n",
    "X = lfw_people.data\n",
    "y = lfw_people.target\n",
    "names = lfw_people.target_names\n",
    "\n",
    "n_samples, n_features = X.shape\n",
    "_, h, w = lfw_people.images.shape\n",
    "n_classes = len(names)\n",
    "\n",
    "print(\"n_samples: {}\".format(n_samples))\n",
    "print(\"n_features: {}\".format(n_features))\n",
    "print(\"n_classes: {}\".format(n_classes))\n",
    "print(\"Original Image Sizes {} by {}\".format(h,w))\n",
    "print (125*94) # the size of the images are the size of the feature vectors"
   ]
  },
  {
   "cell_type": "markdown",
   "metadata": {},
   "source": [
    "**Question 1:** For the faces dataset, describe what the data represents? That is, what is each column? What is each row? What do the unique class values represent?"
   ]
  },
  {
   "cell_type": "markdown",
   "metadata": {},
   "source": [
    "\n",
    "\n",
    "\"Faces in the wild\". The target vector (or class) corresponds to the name of a person, each with a unique value. Each row is a picture of a persons face. Each entry in the matrix corresponds to a pixel value scaled to fit between 0 and 1 for each rgb channel.\n",
    "\n",
    "\n",
    "\n",
    "___"
   ]
  },
  {
   "cell_type": "markdown",
   "metadata": {},
   "source": [
    "<a id=\"svm\"></a>\n",
    "<a href=\"#top\">Back to Top</a>\n",
    "## Linear Support Vector Machines\n",
    "\n",
    "**Question 2:** If we were to train a linear Support Vector Machine (SVM) upon the faces data, how many parameters would need to be optimized in the model? That is, how many coefficients would need to be calculated?\n"
   ]
  },
  {
   "cell_type": "markdown",
   "metadata": {},
   "source": [
    "You need to optimize a weight for each feature plus one bias term for each of the 62 classes.\n"
   ]
  },
  {
   "cell_type": "code",
   "execution_count": 7,
   "metadata": {},
   "outputs": [
    {
     "data": {
      "text/plain": [
       "728562"
      ]
     },
     "execution_count": 7,
     "metadata": {},
     "output_type": "execute_result"
    }
   ],
   "source": [
    "# Enter any scratchwork or calculations here\n",
    "total_optimization_parameters = 62*(11750 + 1)\n",
    "total_optimization_parameters"
   ]
  },
  {
   "cell_type": "markdown",
   "metadata": {},
   "source": [
    "**Question 3:** \n",
    "- **Part A:** Given the number of parameters calculated above, would you expect the model to train quickly using **batch optimization techniques**? Why or why not? \n",
    "- **Part B:** Is there a way to reduce training time?\n",
    "- **Part C:** If we transformed the X data using principle components analysis (PCA) with 100 components, how many parameters would we need to find for a linear Support Vector Machine (SVM)?"
   ]
  },
  {
   "cell_type": "markdown",
   "metadata": {},
   "source": [
    "*Enter you answer here (double click)*\n",
    "\n",
    "\n",
    "A. No, too much data. Calculating the gradient for every one of the sample each iteration is computationally expensive.\n",
    "\n",
    "B. Yes PCA, quasi newton, stochastic gradient descent, or even grouping by classes could reduce training time.\n",
    "\n",
    "C. 6262 = 62*(100 + 1)\n",
    "___"
   ]
  },
  {
   "cell_type": "code",
   "execution_count": 8,
   "metadata": {},
   "outputs": [
    {
     "name": "stdout",
     "output_type": "stream",
     "text": [
      "Part C. With 100 features:  ??\n"
     ]
    },
    {
     "data": {
      "text/plain": [
       "6262"
      ]
     },
     "execution_count": 8,
     "metadata": {},
     "output_type": "execute_result"
    }
   ],
   "source": [
    "# Enter any scratchwork or calculations here\n",
    "\n",
    "print('Part C. With 100 features: ', '??')\n",
    "62*(100 + 1)"
   ]
  },
  {
   "cell_type": "markdown",
   "metadata": {},
   "source": [
    "___\n",
    "<a id=\"svm_using\"></a>\n",
    "<a href=\"#top\">Back to Top</a>\n",
    "\n",
    "# Using Linear SVMs\n",
    "\n",
    "**Exercise 1:** Use the block of code below to check if the number of parameters you calculated is equal to the number of parameters returned by `sklearn`'s implementation of the Linear SVM. **Was your calculation correct? If different, can you think of a reason why the parameters would not match?**"
   ]
  },
  {
   "cell_type": "code",
   "execution_count": 9,
   "metadata": {},
   "outputs": [
    {
     "name": "stderr",
     "output_type": "stream",
     "text": [
      "/anaconda3/lib/python3.5/site-packages/sklearn/utils/deprecation.py:57: DeprecationWarning: Class RandomizedPCA is deprecated; RandomizedPCA was deprecated in 0.18 and will be removed in 0.20. Use PCA(svd_solver='randomized') instead. The new implementation DOES NOT store whiten ``components_``. Apply transform to get them.\n",
      "  warnings.warn(msg, category=DeprecationWarning)\n"
     ]
    },
    {
     "data": {
      "text/plain": [
       "LinearSVC(C=1.0, class_weight=None, dual=True, fit_intercept=True,\n",
       "     intercept_scaling=1, loss='squared_hinge', max_iter=1000,\n",
       "     multi_class='ovr', penalty='l2', random_state=None, tol=0.0001,\n",
       "     verbose=0)"
      ]
     },
     "execution_count": 9,
     "metadata": {},
     "output_type": "execute_result"
    }
   ],
   "source": [
    "from sklearn.svm import LinearSVC\n",
    "from sklearn.decomposition import RandomizedPCA\n",
    "\n",
    "n_components = 100\n",
    "pca = RandomizedPCA(n_components=n_components)\n",
    "Xpca = pca.fit_transform(X)\n",
    "\n",
    "clf = LinearSVC()\n",
    "clf.fit(Xpca,y)"
   ]
  },
  {
   "cell_type": "code",
   "execution_count": 15,
   "metadata": {},
   "outputs": [
    {
     "data": {
      "text/plain": [
       "6262"
      ]
     },
     "execution_count": 15,
     "metadata": {},
     "output_type": "execute_result"
    }
   ],
   "source": [
    "#===================================================================\n",
    "# Enter your code below to calculate the number of parameters in the model \n",
    "\n",
    "clf.coef_.shape\n",
    "clf.intercept_.shape\n",
    "clf.coef_.shape[0]*(clf.coef_.shape[1]) + clf.intercept_.shape[0]\n",
    "#==================================================================="
   ]
  },
  {
   "cell_type": "markdown",
   "metadata": {},
   "source": [
    "___\n",
    "**Exercise 2:** Use the starter code below to calculate two quantities: \n",
    "- **Part A.:** The overall accuracy of the trained linear svm on the training set\n",
    "- **Part B.:** The *mean, standard deviation, maximum, and minimum* of the **accuracy per class** on the training set\n",
    "\n",
    "You might be interested in the following documentation of the confusion matrix calculated by `scikit-learn`:\n",
    "- http://scikit-learn.org/stable/auto_examples/model_selection/plot_confusion_matrix.html\n",
    "\n",
    "And an example matrix returned by the confusion matrix function:\n",
    "<img src=\"http://scikit-learn.org/stable/_images/sphx_glr_plot_confusion_matrix_001.png\",width=400,height=400>"
   ]
  },
  {
   "cell_type": "code",
   "execution_count": 47,
   "metadata": {},
   "outputs": [
    {
     "name": "stdout",
     "output_type": "stream",
     "text": [
      "Overall Accuracy is 0.8819053919947073\n",
      "The class accuracy is  0.8949871083221426 +- 0.12065998790862242 (min,max) ( 0.46153846153846156 , 1.0 )\n"
     ]
    }
   ],
   "source": [
    "from sklearn.metrics import accuracy_score\n",
    "from sklearn.metrics import confusion_matrix\n",
    "import numpy as np\n",
    "\n",
    "yhat = clf.predict(Xpca)\n",
    "\n",
    "#===================================================\n",
    "# Enter your code below\n",
    "\n",
    "cnf_matrix = confusion_matrix(y, yhat)\n",
    "\n",
    "\n",
    "normalized_cm = cnf_matrix.astype('float') / cnf_matrix.sum(axis=1)[:, np.newaxis]\n",
    "\n",
    "d = np.diagonal(normalized_cm)\n",
    "\n",
    "mean = np.mean(d)\n",
    "std = np.std(d)\n",
    "maximum = np.max(d)\n",
    "minimum = np.min(d)\n",
    "\n",
    "\n",
    "\n",
    "print('Overall Accuracy is %s' % accuracy_score(y, yhat))\n",
    "\n",
    "print('The class accuracy is ',str(mean), '+-', str(std), end=' ')\n",
    "print('(min,max) (',str(minimum),',' , str(maximum),')')\n",
    "\n",
    "#==================================================="
   ]
  },
  {
   "cell_type": "markdown",
   "metadata": {},
   "source": [
    "___\n",
    "<a id=\"nonlinear\"></a>\n",
    "<a href=\"#top\">Back to Top</a>\n",
    "\n",
    "# Non-linear SVMs\n",
    "Now let's explore the use of non-linear svms. More explicitly, using different kernels. Take a look at the example training and testing code below for the non-linear SVM. All parameters are left as default, except we change the kernel to be `rbf`. Run the block of code below.\n",
    "\n"
   ]
  },
  {
   "cell_type": "code",
   "execution_count": 50,
   "metadata": {},
   "outputs": [
    {
     "name": "stdout",
     "output_type": "stream",
     "text": [
      "CPU times: user 3.36 s, sys: 13 ms, total: 3.38 s\n",
      "Wall time: 3.39 s\n",
      "Overall Accuracy of rbf kernal is  0.9361561362884552\n",
      "CPU times: user 2.22 s, sys: 3.89 ms, total: 2.22 s\n",
      "Wall time: 2.22 s\n",
      "Overall Accuracy of poly kernal is  0.9748594111809461\n",
      "CPU times: user 1.04 s, sys: 805 µs, total: 1.04 s\n",
      "Wall time: 1.04 s\n",
      "Overall Accuracy of sigmoid kernal is  0.21634138273238504\n"
     ]
    }
   ],
   "source": [
    "from sklearn.svm import SVC\n",
    "import time\n",
    "\n",
    "clf = SVC(kernel='rbf')\n",
    "%time clf.fit(Xpca,y)\n",
    "yhat = clf.predict(Xpca)\n",
    "print('Overall Accuracy of rbf kernal is ',accuracy_score(y,yhat))"
   ]
  },
  {
   "cell_type": "markdown",
   "metadata": {},
   "source": [
    "___\n",
    "**Exercise 3:** Use the starter code from above to calculate the accuracy for three different non-linear SVM kernels. That is, repeat the code above for different `kernel` parameters. **Only use non-linear kernels.  Which kernel is most accurate with the default parameters?**\n",
    "\n",
    "You might be interested in the documentation of the scikit-learn SVM implementation, available here:\n",
    "- http://scikit-learn.org/stable/modules/generated/sklearn.svm.SVC.html"
   ]
  },
  {
   "cell_type": "code",
   "execution_count": 63,
   "metadata": {},
   "outputs": [
    {
     "name": "stdout",
     "output_type": "stream",
     "text": [
      "CPU times: user 3.29 s, sys: 8.97 ms, total: 3.3 s\n",
      "Wall time: 3.3 s\n",
      "Overall Accuracy of rbf kernal is  0.9361561362884552\n",
      "CPU times: user 2.18 s, sys: 2.25 ms, total: 2.18 s\n",
      "Wall time: 2.18 s\n",
      "Overall Accuracy of poly kernal is  0.9748594111809461\n",
      "CPU times: user 1.05 s, sys: 1.44 ms, total: 1.05 s\n",
      "Wall time: 1.05 s\n",
      "Overall Accuracy of sigmoid kernal is  0.21634138273238504\n"
     ]
    }
   ],
   "source": [
    "#===================================================\n",
    "# Enter your code below\n",
    "\n",
    "clf_rbf = SVC(kernel='rbf')\n",
    "%time clf_rbf.fit(Xpca,y)\n",
    "yhat = clf_rbf.predict(Xpca)\n",
    "print('Overall Accuracy of rbf kernal is ',accuracy_score(y,yhat))\n",
    "\n",
    "clf_poly = SVC(kernel='poly')\n",
    "%time clf_poly.fit(Xpca,y)\n",
    "yhat = clf_poly.predict(Xpca)\n",
    "print('Overall Accuracy of poly kernal is ',accuracy_score(y,yhat))\n",
    "\n",
    "clf_sigmoid = SVC(kernel='sigmoid')\n",
    "%time clf_sigmoid.fit(Xpca,y)\n",
    "yhat = clf_sigmoid.predict(Xpca)\n",
    "print('Overall Accuracy of sigmoid kernal is ',accuracy_score(y,yhat))\n",
    "\n",
    "#==================================================="
   ]
  },
  {
   "cell_type": "markdown",
   "metadata": {},
   "source": [
    "The most accurate kernel with default paramters is poly kernal.\n"
   ]
  },
  {
   "cell_type": "markdown",
   "metadata": {},
   "source": [
    "___\n",
    "**Exercise 4:** Choose the **most accurate kernel** and manipulate the settings for `gamma` to make the classification more accurate. \n",
    "- **Part A:** How accurate can you make it? \n",
    "- **Part B:** Would you expect the results to generalize well? Why or why not?"
   ]
  },
  {
   "cell_type": "code",
   "execution_count": 70,
   "metadata": {},
   "outputs": [
    {
     "name": "stdout",
     "output_type": "stream",
     "text": [
      "Overall Accuracy is  1.0\n"
     ]
    }
   ],
   "source": [
    "#===================================================\n",
    "# Enter your code below\n",
    "from sklearn.model_selection import GridSearchCV\n",
    "\n",
    "#Create a dictionary of possible parameters\n",
    "params_grids = {'gamma': [0.0001, 0.001, 0.01, 0.1], 'kernel': ['poly'] }\n",
    "\n",
    "#Create the GridSearchCV object\n",
    "grid_clf = GridSearchCV(SVC(class_weight='balanced'), params_grids)\n",
    "\n",
    "#Fit the data with the best possible parameters\n",
    "grid_clf = grid_clf.fit(Xpca, y) #clf_poly.fit(Xpca, y) #\n",
    "\n",
    "#Print the best estimator with it's parameters\n",
    "kern = 'poly'\n",
    "g = grid_clf.best_estimator_.gamma\n",
    "\n",
    "yhat = SVC(kernel=kern, gamma=g).fit(Xpca,y).predict(Xpca)\n",
    "print('Overall Accuracy is ', accuracy_score(y,yhat)) \n",
    "\n",
    "#==================================================="
   ]
  },
  {
   "cell_type": "markdown",
   "metadata": {},
   "source": [
    "\n",
    "A. The highest accuracy we could achieve was 1.0\n",
    "\n",
    "B. We would not expect this to generalize because we are basically overfitting our dataset.\n",
    "\n"
   ]
  },
  {
   "cell_type": "markdown",
   "metadata": {},
   "source": [
    "___\n",
    "**Final Question:** Using the most accurate non-linear SVM you found in the previous question, how many parameter coefficients does the trained model contain?"
   ]
  },
  {
   "cell_type": "markdown",
   "metadata": {},
   "source": [
    "As a result of our using a kernel trick in order to compute our non-linear SVM there is not necessarily a concrete answer for what constitutes a parameter. In this case, we are considering a parameter to be a 'dual coefficient,' because they give you the weights of the support vectors in each of the respective binary classification problems.\n",
    "\n",
    "61\n"
   ]
  },
  {
   "cell_type": "code",
   "execution_count": 77,
   "metadata": {},
   "outputs": [
    {
     "name": "stdout",
     "output_type": "stream",
     "text": [
      "61\n"
     ]
    }
   ],
   "source": [
    "#===================================================\n",
    "# Enter any scratchwork calculations you need below\n",
    "yhat1 = SVC(kernel=kern, gamma=g).fit(Xpca,y)\n",
    "print(len(yhat1.dual_coef_))"
   ]
  },
  {
   "cell_type": "markdown",
   "metadata": {},
   "source": [
    "________________________________________________________________________________________________________\n",
    "\n",
    "That's all! Please **save (make sure you saved!!!) and upload your rendered notebook** and please include **team member names** in the notebook submission."
   ]
  },
  {
   "cell_type": "code",
   "execution_count": null,
   "metadata": {
    "collapsed": true
   },
   "outputs": [],
   "source": []
  }
 ],
 "metadata": {
  "anaconda-cloud": {},
  "kernelspec": {
   "display_name": "Python 3",
   "language": "python",
   "name": "python3"
  },
  "language_info": {
   "codemirror_mode": {
    "name": "ipython",
    "version": 3
   },
   "file_extension": ".py",
   "mimetype": "text/x-python",
   "name": "python",
   "nbconvert_exporter": "python",
   "pygments_lexer": "ipython3",
   "version": "3.6.5"
  }
 },
 "nbformat": 4,
 "nbformat_minor": 1
}
